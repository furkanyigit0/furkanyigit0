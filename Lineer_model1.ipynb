{
  "nbformat": 4,
  "nbformat_minor": 0,
  "metadata": {
    "colab": {
      "provenance": [],
      "toc_visible": true,
      "authorship_tag": "ABX9TyOEC87Ila0zkyDbpS1S9Ezg",
      "include_colab_link": true
    },
    "kernelspec": {
      "name": "python3",
      "display_name": "Python 3"
    },
    "language_info": {
      "name": "python"
    }
  },
  "cells": [
    {
      "cell_type": "markdown",
      "metadata": {
        "id": "view-in-github",
        "colab_type": "text"
      },
      "source": [
        "<a href=\"https://colab.research.google.com/github/furkanyigit0/furkanyigit0/blob/main/Lineer_model1.ipynb\" target=\"_parent\"><img src=\"https://colab.research.google.com/assets/colab-badge.svg\" alt=\"Open In Colab\"/></a>"
      ]
    },
    {
      "cell_type": "code",
      "execution_count": null,
      "metadata": {
        "colab": {
          "base_uri": "https://localhost:8080/",
          "height": 472
        },
        "id": "ZcMPCFwTi6OD",
        "outputId": "e7f3de90-f955-4257-f6d2-8cf1d3e8ec74"
      },
      "outputs": [
        {
          "output_type": "display_data",
          "data": {
            "text/plain": [
              "<Figure size 640x480 with 1 Axes>"
            ],
            "image/png": "[encoded data removed]"
          },
          "metadata": {}
        }
      ],
      "source": [
        "import torch\n",
        "import torch.nn as nn\n",
        "import numpy as np\n",
        "import matplotlib.pyplot as plt\n",
        "\n",
        "# Rastgele bir seed\n",
        "torch.manual_seed(42)\n",
        "\n",
        "# Eğitim veri seti\n",
        "x = torch.rand(10, 1) * 10  # 0 ile 10 arasında 100 tane rastgele x değeri\n",
        "y = 2 * x + 1  # y = 2x + 1 lineer ilişkisi\n",
        "\n",
        "# Gerçek verilere görsel olarak bakalım\n",
        "plt.scatter(x.numpy(), y.numpy())\n",
        "plt.xlabel('x')\n",
        "plt.ylabel('y')\n",
        "plt.title('Eğitim Verisi')\n",
        "plt.show()\n",
        "\n",
        "class LinearRegressionModel(nn.Module):\n",
        "    def __init__(self):\n",
        "        super(LinearRegressionModel, self).__init__()\n",
        "        self.linear = nn.Linear(in_features=1, out_features=1)\n",
        "\n",
        "    def forward(self, x):\n",
        "        return self.linear(x)\n",
        "\n",
        "model = LinearRegressionModel()\n",
        "\n",
        "criterion = nn.MSELoss()  # Ortalama Kare Hata kayıp fonksiyonu\n",
        "optimizer = torch.optim.SGD(model.parameters(), lr=0.01)\n",
        "\n",
        "epochs = 200\n",
        "for epoch in range(epochs):\n",
        "    # Sıfırdan başlayarak gradyanları hesapla\n",
        "    optimizer.zero_grad()\n",
        "\n",
        "    # İleri yayılım\n",
        "    y_pred = model(x)\n",
        "\n",
        "    # Kaybı hesapla\n",
        "    loss = criterion(y_pred, y)\n",
        "\n",
        "    # Geri yayılım\n",
        "    loss.backward()\n",
        "\n",
        "    # Ağırlıkları güncelle\n",
        "    optimizer.step()\n",
        "\n",
        "    if (epoch+1) % 20 == 0:\n",
        "        print(f'Epoch [{epoch+1}/{epochs}], Loss: {loss.item():.4f}')\n",
        "\n",
        "# Tahminler\n",
        "predicted = model(x).detach().numpy()\n",
        "\n",
        "# Gerçek veriler ile tahminleri karşılaştıralım\n",
        "plt.scatter(x.numpy(), y.numpy(), label='Gerçek Veriler')\n",
        "plt.plot(x.numpy(),  predicted, label='Tahminler', color='red')\n",
        "plt.xlabel('x')\n",
        "plt.ylabel('y')\n",
        "plt.title('Gerçek Veriler vs Model Tahminleri')\n",
        "plt.legend()\n",
        "plt.show()\n"
      ]
    },
    {
      "cell_type": "code",
      "source": [],
      "metadata": {
        "id": "oGR74MzylTLc"
      },
      "execution_count": null,
      "outputs": []
    }
  ]
}